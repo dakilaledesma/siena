{
 "cells": [
  {
   "cell_type": "code",
   "execution_count": 1,
   "id": "initial_id",
   "metadata": {
    "collapsed": true,
    "ExecuteTime": {
     "end_time": "2023-10-31T00:06:02.808885Z",
     "start_time": "2023-10-31T00:06:02.514629Z"
    }
   },
   "outputs": [
    {
     "ename": "ApplicationError",
     "evalue": "Non-zero return code 127 from 'blastn -out results.xml -outfmt 5 -query input.fasta -db aiptasia_db', message '/bin/sh: blastn: command not found'",
     "output_type": "error",
     "traceback": [
      "\u001B[0;31m---------------------------------------------------------------------------\u001B[0m",
      "\u001B[0;31mApplicationError\u001B[0m                          Traceback (most recent call last)",
      "Cell \u001B[0;32mIn[1], line 9\u001B[0m\n\u001B[1;32m      6\u001B[0m     \u001B[38;5;66;03m# Parse the XML results and return (this part is not shown but can be done using Biopython's NCBIXML module)\u001B[39;00m\n\u001B[1;32m      8\u001B[0m user_sequence \u001B[38;5;241m=\u001B[39m \u001B[38;5;124m\"\u001B[39m\u001B[38;5;124mGTGAAAGGTATTTCACGACATGACGAGGACCAAGAACAGTGAAACTATCATTTGACACTATGTGGAGGAAGCCCATCTAAAAGCGATCTGTGATCGTTCCTTTTCAAGGATTGTATAGTGAAGGCCAGGTTACTTAGGCTTGGAATTATGTAACAACAACAAATGGCGCAGAAATTGTTCATGTACACCTCAGGCTTCTAGCACGGCATTACAGCTCAAGATTATGGCCAAAAACGTATAATATTGTCACATTTGGTAATAAAGGAGTTGTAACTAGAGGAATAATGCTAAGTGCTGGTTTACTAGCCAAAACCACAGATGAAGAATGGGGAAAAAAACTTACACCTCAACAATACCACGTTTGTAGGCAAAAGGGAACCGAGCCGCCTGGTCTGGTG\u001B[39m\u001B[38;5;124m\"\u001B[39m\n\u001B[0;32m----> 9\u001B[0m results \u001B[38;5;241m=\u001B[39m \u001B[43mblast_sequence\u001B[49m\u001B[43m(\u001B[49m\u001B[43muser_sequence\u001B[49m\u001B[43m)\u001B[49m\n",
      "Cell \u001B[0;32mIn[1], line 5\u001B[0m, in \u001B[0;36mblast_sequence\u001B[0;34m(sequence)\u001B[0m\n\u001B[1;32m      3\u001B[0m \u001B[38;5;28;01mdef\u001B[39;00m \u001B[38;5;21mblast_sequence\u001B[39m(sequence):\n\u001B[1;32m      4\u001B[0m     blastn \u001B[38;5;241m=\u001B[39m NcbiblastnCommandline(query\u001B[38;5;241m=\u001B[39m\u001B[38;5;124m\"\u001B[39m\u001B[38;5;124minput.fasta\u001B[39m\u001B[38;5;124m\"\u001B[39m, db\u001B[38;5;241m=\u001B[39m\u001B[38;5;124m\"\u001B[39m\u001B[38;5;124maiptasia_db\u001B[39m\u001B[38;5;124m\"\u001B[39m, out\u001B[38;5;241m=\u001B[39m\u001B[38;5;124m\"\u001B[39m\u001B[38;5;124mresults.xml\u001B[39m\u001B[38;5;124m\"\u001B[39m, outfmt\u001B[38;5;241m=\u001B[39m\u001B[38;5;241m5\u001B[39m)\n\u001B[0;32m----> 5\u001B[0m     stdout, stderr \u001B[38;5;241m=\u001B[39m \u001B[43mblastn\u001B[49m\u001B[43m(\u001B[49m\u001B[43m)\u001B[49m\n",
      "File \u001B[0;32m~/miniconda3/envs/siena/lib/python3.10/site-packages/Bio/Application/__init__.py:574\u001B[0m, in \u001B[0;36mAbstractCommandline.__call__\u001B[0;34m(self, stdin, stdout, stderr, cwd, env)\u001B[0m\n\u001B[1;32m    571\u001B[0m     stderr_arg\u001B[38;5;241m.\u001B[39mclose()\n\u001B[1;32m    573\u001B[0m \u001B[38;5;28;01mif\u001B[39;00m return_code:\n\u001B[0;32m--> 574\u001B[0m     \u001B[38;5;28;01mraise\u001B[39;00m ApplicationError(return_code, \u001B[38;5;28mstr\u001B[39m(\u001B[38;5;28mself\u001B[39m), stdout_str, stderr_str)\n\u001B[1;32m    575\u001B[0m \u001B[38;5;28;01mreturn\u001B[39;00m stdout_str, stderr_str\n",
      "\u001B[0;31mApplicationError\u001B[0m: Non-zero return code 127 from 'blastn -out results.xml -outfmt 5 -query input.fasta -db aiptasia_db', message '/bin/sh: blastn: command not found'"
     ]
    }
   ],
   "source": [
    "from Bio.Blast.Applications import NcbiblastnCommandline\n",
    "\n",
    "def blast_sequence(sequence):\n",
    "    blastn = NcbiblastnCommandline(query=\"input.fasta\", db=\"aiptasia_db\", out=\"results.xml\", outfmt=5)\n",
    "    stdout, stderr = blastn()\n",
    "    # Parse the XML results and return (this part is not shown but can be done using Biopython's NCBIXML module)\n",
    "\n",
    "user_sequence = \"GTGAAAGGTATTTCACGACATGACGAGGACCAAGAACAGTGAAACTATCATTTGACACTATGTGGAGGAAGCCCATCTAAAAGCGATCTGTGATCGTTCCTTTTCAAGGATTGTATAGTGAAGGCCAGGTTACTTAGGCTTGGAATTATGTAACAACAACAAATGGCGCAGAAATTGTTCATGTACACCTCAGGCTTCTAGCACGGCATTACAGCTCAAGATTATGGCCAAAAACGTATAATATTGTCACATTTGGTAATAAAGGAGTTGTAACTAGAGGAATAATGCTAAGTGCTGGTTTACTAGCCAAAACCACAGATGAAGAATGGGGAAAAAAACTTACACCTCAACAATACCACGTTTGTAGGCAAAAGGGAACCGAGCCGCCTGGTCTGGTG\"\n",
    "results = blast_sequence(user_sequence)"
   ]
  },
  {
   "cell_type": "code",
   "execution_count": 8,
   "outputs": [
    {
     "data": {
      "text/plain": "  0%|          | 0/4312 [00:00<?, ?it/s]",
      "application/vnd.jupyter.widget-view+json": {
       "version_major": 2,
       "version_minor": 0,
       "model_id": "9d2a3b5da38e4ca2a3bc008d9cf70679"
      }
     },
     "metadata": {},
     "output_type": "display_data"
    },
    {
     "name": "stderr",
     "output_type": "stream",
     "text": [
      "/Users/daxledesma/miniconda3/envs/siena/lib/python3.10/site-packages/Bio/pairwise2.py:278: BiopythonDeprecationWarning: Bio.pairwise2 has been deprecated, and we intend to remove it in a future release of Biopython. As an alternative, please consider using Bio.Align.PairwiseAligner as a replacement, and contact the Biopython developers if you still need the Bio.pairwise2 module.\n",
      "  warnings.warn(\n",
      "/Users/daxledesma/miniconda3/envs/siena/lib/python3.10/site-packages/Bio/pairwise2.py:278: BiopythonDeprecationWarning: Bio.pairwise2 has been deprecated, and we intend to remove it in a future release of Biopython. As an alternative, please consider using Bio.Align.PairwiseAligner as a replacement, and contact the Biopython developers if you still need the Bio.pairwise2 module.\n",
      "  warnings.warn(\n",
      "/Users/daxledesma/miniconda3/envs/siena/lib/python3.10/site-packages/Bio/pairwise2.py:278: BiopythonDeprecationWarning: Bio.pairwise2 has been deprecated, and we intend to remove it in a future release of Biopython. As an alternative, please consider using Bio.Align.PairwiseAligner as a replacement, and contact the Biopython developers if you still need the Bio.pairwise2 module.\n",
      "  warnings.warn(\n",
      "/Users/daxledesma/miniconda3/envs/siena/lib/python3.10/site-packages/Bio/pairwise2.py:278: BiopythonDeprecationWarning: Bio.pairwise2 has been deprecated, and we intend to remove it in a future release of Biopython. As an alternative, please consider using Bio.Align.PairwiseAligner as a replacement, and contact the Biopython developers if you still need the Bio.pairwise2 module.\n",
      "  warnings.warn(\n",
      "/Users/daxledesma/miniconda3/envs/siena/lib/python3.10/site-packages/Bio/pairwise2.py:278: BiopythonDeprecationWarning: Bio.pairwise2 has been deprecated, and we intend to remove it in a future release of Biopython. As an alternative, please consider using Bio.Align.PairwiseAligner as a replacement, and contact the Biopython developers if you still need the Bio.pairwise2 module.\n",
      "  warnings.warn(\n",
      "/Users/daxledesma/miniconda3/envs/siena/lib/python3.10/site-packages/Bio/pairwise2.py:278: BiopythonDeprecationWarning: Bio.pairwise2 has been deprecated, and we intend to remove it in a future release of Biopython. As an alternative, please consider using Bio.Align.PairwiseAligner as a replacement, and contact the Biopython developers if you still need the Bio.pairwise2 module.\n",
      "  warnings.warn(\n",
      "/Users/daxledesma/miniconda3/envs/siena/lib/python3.10/site-packages/Bio/pairwise2.py:278: BiopythonDeprecationWarning: Bio.pairwise2 has been deprecated, and we intend to remove it in a future release of Biopython. As an alternative, please consider using Bio.Align.PairwiseAligner as a replacement, and contact the Biopython developers if you still need the Bio.pairwise2 module.\n",
      "  warnings.warn(\n",
      "/Users/daxledesma/miniconda3/envs/siena/lib/python3.10/site-packages/Bio/pairwise2.py:278: BiopythonDeprecationWarning: Bio.pairwise2 has been deprecated, and we intend to remove it in a future release of Biopython. As an alternative, please consider using Bio.Align.PairwiseAligner as a replacement, and contact the Biopython developers if you still need the Bio.pairwise2 module.\n",
      "  warnings.warn(\n"
     ]
    },
    {
     "ename": "KeyboardInterrupt",
     "evalue": "",
     "output_type": "error",
     "traceback": [
      "\u001B[0;31m---------------------------------------------------------------------------\u001B[0m",
      "\u001B[0;31mKeyboardInterrupt\u001B[0m                         Traceback (most recent call last)",
      "Cell \u001B[0;32mIn[8], line 22\u001B[0m\n\u001B[1;32m     20\u001B[0m database_filename \u001B[38;5;241m=\u001B[39m \u001B[38;5;124m\"\u001B[39m\u001B[38;5;124mdata/aiptasia_genome.fna\u001B[39m\u001B[38;5;124m\"\u001B[39m\n\u001B[1;32m     21\u001B[0m target_seq \u001B[38;5;241m=\u001B[39m \u001B[38;5;124m\"\u001B[39m\u001B[38;5;124mGTGAAAGGTATTTCACGACATGACGAGGACCAAGAACAGTGAAACTATCATTTGACACTATGTGGAGGAAGCCCATCTAAAAGCGATCTGTGATCGTTCCTTTTCAAGGATTGTATAGTGAAGGCCAGGTTACTTAGGCTTGGAATTATGTAACAACAACAAATGGCGCAGAAATTGTTCATGTACACCTCAGGCTTCTAGCACGGCATTACAGCTCAAGATTATGGCCAAAAACGTATAATATTGTCACATTTGGTAATAAAGGAGTTGTAACTAGAGGAATAATGCTAAGTGCTGGTTTACTAGCCAAAACCACAGATGAAGAATGGGGAAAAAAACTTACACCTCAACAATACCACGTTTGTAGGCAAAAGGGAACCGAGCCGCCTGGTCTGGTG\u001B[39m\u001B[38;5;124m\"\u001B[39m\n\u001B[0;32m---> 22\u001B[0m aligned_records \u001B[38;5;241m=\u001B[39m \u001B[43mparallel_search_sequence\u001B[49m\u001B[43m(\u001B[49m\u001B[43mtarget_seq\u001B[49m\u001B[43m,\u001B[49m\u001B[43m \u001B[49m\u001B[43mdatabase_filename\u001B[49m\u001B[43m)\u001B[49m\n",
      "Cell \u001B[0;32mIn[8], line 15\u001B[0m, in \u001B[0;36mparallel_search_sequence\u001B[0;34m(target_seq, database_filename, n_jobs)\u001B[0m\n\u001B[1;32m     12\u001B[0m records \u001B[38;5;241m=\u001B[39m \u001B[38;5;28mlist\u001B[39m(SeqIO\u001B[38;5;241m.\u001B[39mparse(database_filename, \u001B[38;5;124m\"\u001B[39m\u001B[38;5;124mfasta\u001B[39m\u001B[38;5;124m\"\u001B[39m))\n\u001B[1;32m     14\u001B[0m \u001B[38;5;66;03m# Use joblib to parallelize the alignment scoring\u001B[39;00m\n\u001B[0;32m---> 15\u001B[0m results \u001B[38;5;241m=\u001B[39m \u001B[43mParallel\u001B[49m\u001B[43m(\u001B[49m\u001B[43mn_jobs\u001B[49m\u001B[38;5;241;43m=\u001B[39;49m\u001B[43mn_jobs\u001B[49m\u001B[43m)\u001B[49m\u001B[43m(\u001B[49m\u001B[43mdelayed\u001B[49m\u001B[43m(\u001B[49m\u001B[43mscore_alignment\u001B[49m\u001B[43m)\u001B[49m\u001B[43m(\u001B[49m\u001B[43mtarget_seq\u001B[49m\u001B[43m,\u001B[49m\u001B[43m \u001B[49m\u001B[43mrecord\u001B[49m\u001B[43m)\u001B[49m\u001B[43m \u001B[49m\u001B[38;5;28;43;01mfor\u001B[39;49;00m\u001B[43m \u001B[49m\u001B[43mrecord\u001B[49m\u001B[43m \u001B[49m\u001B[38;5;129;43;01min\u001B[39;49;00m\u001B[43m \u001B[49m\u001B[43mtqdm\u001B[49m\u001B[43m(\u001B[49m\u001B[43mrecords\u001B[49m\u001B[43m)\u001B[49m\u001B[43m)\u001B[49m\n\u001B[1;32m     17\u001B[0m \u001B[38;5;66;03m# Filter out None results\u001B[39;00m\n\u001B[1;32m     18\u001B[0m \u001B[38;5;28;01mreturn\u001B[39;00m [result \u001B[38;5;28;01mfor\u001B[39;00m result \u001B[38;5;129;01min\u001B[39;00m results \u001B[38;5;28;01mif\u001B[39;00m result \u001B[38;5;129;01mis\u001B[39;00m \u001B[38;5;129;01mnot\u001B[39;00m \u001B[38;5;28;01mNone\u001B[39;00m]\n",
      "File \u001B[0;32m~/miniconda3/envs/siena/lib/python3.10/site-packages/joblib/parallel.py:1098\u001B[0m, in \u001B[0;36mParallel.__call__\u001B[0;34m(self, iterable)\u001B[0m\n\u001B[1;32m   1095\u001B[0m     \u001B[38;5;28mself\u001B[39m\u001B[38;5;241m.\u001B[39m_iterating \u001B[38;5;241m=\u001B[39m \u001B[38;5;28;01mFalse\u001B[39;00m\n\u001B[1;32m   1097\u001B[0m \u001B[38;5;28;01mwith\u001B[39;00m \u001B[38;5;28mself\u001B[39m\u001B[38;5;241m.\u001B[39m_backend\u001B[38;5;241m.\u001B[39mretrieval_context():\n\u001B[0;32m-> 1098\u001B[0m     \u001B[38;5;28;43mself\u001B[39;49m\u001B[38;5;241;43m.\u001B[39;49m\u001B[43mretrieve\u001B[49m\u001B[43m(\u001B[49m\u001B[43m)\u001B[49m\n\u001B[1;32m   1099\u001B[0m \u001B[38;5;66;03m# Make sure that we get a last message telling us we are done\u001B[39;00m\n\u001B[1;32m   1100\u001B[0m elapsed_time \u001B[38;5;241m=\u001B[39m time\u001B[38;5;241m.\u001B[39mtime() \u001B[38;5;241m-\u001B[39m \u001B[38;5;28mself\u001B[39m\u001B[38;5;241m.\u001B[39m_start_time\n",
      "File \u001B[0;32m~/miniconda3/envs/siena/lib/python3.10/site-packages/joblib/parallel.py:975\u001B[0m, in \u001B[0;36mParallel.retrieve\u001B[0;34m(self)\u001B[0m\n\u001B[1;32m    973\u001B[0m \u001B[38;5;28;01mtry\u001B[39;00m:\n\u001B[1;32m    974\u001B[0m     \u001B[38;5;28;01mif\u001B[39;00m \u001B[38;5;28mgetattr\u001B[39m(\u001B[38;5;28mself\u001B[39m\u001B[38;5;241m.\u001B[39m_backend, \u001B[38;5;124m'\u001B[39m\u001B[38;5;124msupports_timeout\u001B[39m\u001B[38;5;124m'\u001B[39m, \u001B[38;5;28;01mFalse\u001B[39;00m):\n\u001B[0;32m--> 975\u001B[0m         \u001B[38;5;28mself\u001B[39m\u001B[38;5;241m.\u001B[39m_output\u001B[38;5;241m.\u001B[39mextend(\u001B[43mjob\u001B[49m\u001B[38;5;241;43m.\u001B[39;49m\u001B[43mget\u001B[49m\u001B[43m(\u001B[49m\u001B[43mtimeout\u001B[49m\u001B[38;5;241;43m=\u001B[39;49m\u001B[38;5;28;43mself\u001B[39;49m\u001B[38;5;241;43m.\u001B[39;49m\u001B[43mtimeout\u001B[49m\u001B[43m)\u001B[49m)\n\u001B[1;32m    976\u001B[0m     \u001B[38;5;28;01melse\u001B[39;00m:\n\u001B[1;32m    977\u001B[0m         \u001B[38;5;28mself\u001B[39m\u001B[38;5;241m.\u001B[39m_output\u001B[38;5;241m.\u001B[39mextend(job\u001B[38;5;241m.\u001B[39mget())\n",
      "File \u001B[0;32m~/miniconda3/envs/siena/lib/python3.10/site-packages/joblib/_parallel_backends.py:567\u001B[0m, in \u001B[0;36mLokyBackend.wrap_future_result\u001B[0;34m(future, timeout)\u001B[0m\n\u001B[1;32m    564\u001B[0m \u001B[38;5;250m\u001B[39m\u001B[38;5;124;03m\"\"\"Wrapper for Future.result to implement the same behaviour as\u001B[39;00m\n\u001B[1;32m    565\u001B[0m \u001B[38;5;124;03mAsyncResults.get from multiprocessing.\"\"\"\u001B[39;00m\n\u001B[1;32m    566\u001B[0m \u001B[38;5;28;01mtry\u001B[39;00m:\n\u001B[0;32m--> 567\u001B[0m     \u001B[38;5;28;01mreturn\u001B[39;00m \u001B[43mfuture\u001B[49m\u001B[38;5;241;43m.\u001B[39;49m\u001B[43mresult\u001B[49m\u001B[43m(\u001B[49m\u001B[43mtimeout\u001B[49m\u001B[38;5;241;43m=\u001B[39;49m\u001B[43mtimeout\u001B[49m\u001B[43m)\u001B[49m\n\u001B[1;32m    568\u001B[0m \u001B[38;5;28;01mexcept\u001B[39;00m CfTimeoutError \u001B[38;5;28;01mas\u001B[39;00m e:\n\u001B[1;32m    569\u001B[0m     \u001B[38;5;28;01mraise\u001B[39;00m \u001B[38;5;167;01mTimeoutError\u001B[39;00m \u001B[38;5;28;01mfrom\u001B[39;00m \u001B[38;5;21;01me\u001B[39;00m\n",
      "File \u001B[0;32m~/miniconda3/envs/siena/lib/python3.10/concurrent/futures/_base.py:453\u001B[0m, in \u001B[0;36mFuture.result\u001B[0;34m(self, timeout)\u001B[0m\n\u001B[1;32m    450\u001B[0m \u001B[38;5;28;01melif\u001B[39;00m \u001B[38;5;28mself\u001B[39m\u001B[38;5;241m.\u001B[39m_state \u001B[38;5;241m==\u001B[39m FINISHED:\n\u001B[1;32m    451\u001B[0m     \u001B[38;5;28;01mreturn\u001B[39;00m \u001B[38;5;28mself\u001B[39m\u001B[38;5;241m.\u001B[39m__get_result()\n\u001B[0;32m--> 453\u001B[0m \u001B[38;5;28;43mself\u001B[39;49m\u001B[38;5;241;43m.\u001B[39;49m\u001B[43m_condition\u001B[49m\u001B[38;5;241;43m.\u001B[39;49m\u001B[43mwait\u001B[49m\u001B[43m(\u001B[49m\u001B[43mtimeout\u001B[49m\u001B[43m)\u001B[49m\n\u001B[1;32m    455\u001B[0m \u001B[38;5;28;01mif\u001B[39;00m \u001B[38;5;28mself\u001B[39m\u001B[38;5;241m.\u001B[39m_state \u001B[38;5;129;01min\u001B[39;00m [CANCELLED, CANCELLED_AND_NOTIFIED]:\n\u001B[1;32m    456\u001B[0m     \u001B[38;5;28;01mraise\u001B[39;00m CancelledError()\n",
      "File \u001B[0;32m~/miniconda3/envs/siena/lib/python3.10/threading.py:320\u001B[0m, in \u001B[0;36mCondition.wait\u001B[0;34m(self, timeout)\u001B[0m\n\u001B[1;32m    318\u001B[0m \u001B[38;5;28;01mtry\u001B[39;00m:    \u001B[38;5;66;03m# restore state no matter what (e.g., KeyboardInterrupt)\u001B[39;00m\n\u001B[1;32m    319\u001B[0m     \u001B[38;5;28;01mif\u001B[39;00m timeout \u001B[38;5;129;01mis\u001B[39;00m \u001B[38;5;28;01mNone\u001B[39;00m:\n\u001B[0;32m--> 320\u001B[0m         \u001B[43mwaiter\u001B[49m\u001B[38;5;241;43m.\u001B[39;49m\u001B[43macquire\u001B[49m\u001B[43m(\u001B[49m\u001B[43m)\u001B[49m\n\u001B[1;32m    321\u001B[0m         gotit \u001B[38;5;241m=\u001B[39m \u001B[38;5;28;01mTrue\u001B[39;00m\n\u001B[1;32m    322\u001B[0m     \u001B[38;5;28;01melse\u001B[39;00m:\n",
      "\u001B[0;31mKeyboardInterrupt\u001B[0m: "
     ]
    }
   ],
   "source": [
    "from Bio import pairwise2\n",
    "from Bio import SeqIO\n",
    "from tqdm.notebook import tqdm\n",
    "from joblib import Parallel, delayed\n",
    "\n",
    "def score_alignment(target_seq, record):\n",
    "    align_score = pairwise2.align.globalxx(target_seq, record.seq, score_only=True)\n",
    "    return record.id, align_score\n",
    "\n",
    "def parallel_search_sequence(target_seq, database_filename, n_jobs=-1):\n",
    "    # Read the entire database into a list (can be memory intensive for large databases)\n",
    "    records = list(SeqIO.parse(database_filename, \"fasta\"))\n",
    "\n",
    "    # Use joblib to parallelize the alignment scoring\n",
    "    results = Parallel(n_jobs=n_jobs)(delayed(score_alignment)(target_seq, record) for record in tqdm(records))\n",
    "\n",
    "    # Filter out None results\n",
    "    return [result for result in results if result is not None]\n",
    "\n",
    "database_filename = \"data/aiptasia_genome.fna\"\n",
    "target_seq = \"GTGAAAGGTATTTCACGACATGACGAGGACCAAGAACAGTGAAACTATCATTTGACACTATGTGGAGGAAGCCCATCTAAAAGCGATCTGTGATCGTTCCTTTTCAAGGATTGTATAGTGAAGGCCAGGTTACTTAGGCTTGGAATTATGTAACAACAACAAATGGCGCAGAAATTGTTCATGTACACCTCAGGCTTCTAGCACGGCATTACAGCTCAAGATTATGGCCAAAAACGTATAATATTGTCACATTTGGTAATAAAGGAGTTGTAACTAGAGGAATAATGCTAAGTGCTGGTTTACTAGCCAAAACCACAGATGAAGAATGGGGAAAAAAACTTACACCTCAACAATACCACGTTTGTAGGCAAAAGGGAACCGAGCCGCCTGGTCTGGTG\"\n",
    "aligned_records = parallel_search_sequence(target_seq, database_filename)"
   ],
   "metadata": {
    "collapsed": false,
    "ExecuteTime": {
     "end_time": "2023-10-31T00:24:29.802777Z",
     "start_time": "2023-10-31T00:21:37.548232Z"
    }
   },
   "id": "8a85cbdaa204f470"
  },
  {
   "cell_type": "code",
   "execution_count": null,
   "outputs": [
    {
     "data": {
      "text/plain": "  0%|          | 0/4312 [00:00<?, ?it/s]",
      "application/vnd.jupyter.widget-view+json": {
       "version_major": 2,
       "version_minor": 0,
       "model_id": "f6c8caf98245448da9dc3e7d4f344ef4"
      }
     },
     "metadata": {},
     "output_type": "display_data"
    }
   ],
   "source": [
    "from Bio import pairwise2\n",
    "from Bio import SeqIO\n",
    "from joblib import Parallel, delayed\n",
    "\n",
    "def gc_content(seq):\n",
    "    return (seq.count(\"G\") + seq.count(\"C\")) / len(seq) * 100\n",
    "\n",
    "def score_alignment(target_seq, motif):\n",
    "    if 30 <= gc_content(target_seq) <= 55:  # Check the GC content criteria\n",
    "        align_score = pairwise2.align.globalxx(target_seq, motif, score_only=True)\n",
    "        if align_score == len(motif):  # Since the length of the motif is 21, a perfect score would be 21.\n",
    "            return motif\n",
    "    return None\n",
    "\n",
    "def parallel_search_motifs(target_seq, database_filename, n_jobs=-1):\n",
    "    # Extract all 21 nt motifs from the database\n",
    "    records = list(SeqIO.parse(database_filename, \"fasta\"))\n",
    "    motifs = []\n",
    "    for record in tqdm(records):\n",
    "        for i in range(len(record.seq) - 21 + 1):\n",
    "            motifs.append(record.seq[i:i+21])\n",
    "\n",
    "    # Use joblib to parallelize the alignment scoring\n",
    "    matching_motifs = Parallel(n_jobs=n_jobs)(delayed(score_alignment)(target_seq, motif) for motif in tqdm(motifs))\n",
    "\n",
    "    # Filter out None results\n",
    "    return [motif for motif in matching_motifs if motif is not None]\n",
    "\n",
    "database_filename = \"data/aiptasia_genome.fna\"\n",
    "target_seq = \"GTGAAAGGTATTTCACGACATGACGAGGACCAAGAACAGTGAAACTATCATTTGACACTATGTGGAGGAAGCCCATCTAAAAGCGATCTGTGATCGTTCCTTTTCAAGGATTGTATAGTGAAGGCCAGGTTACTTAGGCTTGGAATTATGTAACAACAACAAATGGCGCAGAAATTGTTCATGTACACCTCAGGCTTCTAGCACGGCATTACAGCTCAAGATTATGGCCAAAAACGTATAATATTGTCACATTTGGTAATAAAGGAGTTGTAACTAGAGGAATAATGCTAAGTGCTGGTTTACTAGCCAAAACCACAGATGAAGAATGGGGAAAAAAACTTACACCTCAACAATACCACGTTTGTAGGCAAAAGGGAACCGAGCCGCCTGGTCTGGTG\"\n",
    "aligned_motifs = parallel_search_motifs(target_seq, database_filename)"
   ],
   "metadata": {
    "collapsed": false,
    "is_executing": true,
    "ExecuteTime": {
     "start_time": "2023-10-31T00:27:49.008782Z"
    }
   },
   "id": "a73191a7de4ef097"
  },
  {
   "cell_type": "code",
   "execution_count": null,
   "outputs": [],
   "source": [
    "import re\n",
    "\n",
    "class siRNAApp:\n",
    "    def __init__(self):\n",
    "        self.sirna_name = None\n",
    "        self.target_gene_sequence = \"\"\n",
    "        self.selection_criteria = \"default_criteria\"\n",
    "\n",
    "    def remove_spaces_and_numbers(self, sequence):\n",
    "        return re.sub(r'[\\s\\d]', '', sequence)\n",
    "\n",
    "    def get_input_data(self):\n",
    "        self.sirna_name = input(\"Enter your siRNA name for reference (optional): \")\n",
    "        sequence_input = input(\"Paste the sequence of your target gene: \")\n",
    "        self.target_gene_sequence = self.remove_spaces_and_numbers(sequence_input)\n",
    "        criteria = input(\"Enter the desired selection criteria (or type 'default' to use default settings): \")\n",
    "\n",
    "    def process_sequence(self):\n",
    "        print(f\"Processing sequence for siRNA {self.sirna_name}...\")\n",
    "\n",
    "    def check_specificity(self):\n",
    "        # Mock-up for checking specificity\n",
    "        print(f\"Checking specificity for {self.sirna_name}...\")\n",
    "        # Link to a database and implement a function to check for non-unique sequences\n",
    "\n",
    "    def check_off_target_effects(self):\n",
    "        # Mock-up for checking off-target effects\n",
    "        print(f\"Checking off-target effects for {self.sirna_name}...\")\n",
    "        # Link to an miRNA SEED database and check for potential off-target effects\n",
    "\n",
    "    def run(self):\n",
    "        self.get_input_data()\n",
    "        self.process_sequence()\n",
    "        self.check_specificity()\n",
    "        self.check_off_target_effects()\n",
    "        print(\"siRNA design complete.\")\n",
    "\n",
    "if __name__ == \"__main__\":\n",
    "    app = siRNAApp()\n",
    "    app.run()\n"
   ],
   "metadata": {
    "collapsed": false
   },
   "id": "acd1b5b4505c8e64"
  },
  {
   "cell_type": "code",
   "execution_count": 6,
   "outputs": [
    {
     "name": "stdout",
     "output_type": "stream",
     "text": [
      "Failed GC content check.\n",
      "Failed to design siRNA based on criteria.\n"
     ]
    }
   ],
   "source": [
    "import re\n",
    "from Bio import SeqUtils\n",
    "from Bio.Blast import NCBIWWW, NCBIXML\n",
    "\n",
    "def select_target_region(sequence, length=21, position_from_3UTR=50):\n",
    "    '''Select a target region near the 3' UTR.'''\n",
    "    return sequence[-(position_from_3UTR + length):-position_from_3UTR]\n",
    "\n",
    "def check_gc_content(sequence):\n",
    "    '''Check GC content. It should be between 30% and 52%.'''\n",
    "    gc_content = SeqUtils.gc(sequence)\n",
    "    return 30 <= gc_content <= 52\n",
    "\n",
    "def avoid_certain_patterns(sequence):\n",
    "    '''Avoid sequences with more than four consecutive same nucleotides.'''\n",
    "    patterns = [\"AAAAA\", \"TTTTT\", \"GGGGG\", \"CCCCC\"]\n",
    "    for pattern in patterns:\n",
    "        if pattern in sequence:\n",
    "            return False\n",
    "    return True\n",
    "\n",
    "def check_thermodynamics(sequence):\n",
    "    '''Check thermodynamic stability at 5' end vs 3' end. Basic example.'''\n",
    "    five_prime = sequence[:5]\n",
    "    three_prime = sequence[-5:]\n",
    "    return SeqUtils.gc(five_prime) < SeqUtils.gc(three_prime)\n",
    "\n",
    "def avoid_off_target(sequence):\n",
    "    '''Check against BLAST database for off-target effects. This is a mockup.'''\n",
    "    # Perform BLAST search (this may result in an error if there are issues connecting to NCBI or if there are too many requests)\n",
    "    result_handle = NCBIWWW.qblast(\"blastn\", \"nt\", sequence)\n",
    "    blast_record = NCBIXML.read(result_handle)\n",
    "    \n",
    "    # If there are matches to other sequences, return False\n",
    "    if blast_record.alignments:\n",
    "        return False\n",
    "    return True\n",
    "\n",
    "def design_siRNA(sequence):\n",
    "    '''Design an siRNA given the input sequence.'''\n",
    "    target = select_target_region(sequence)\n",
    "    \n",
    "    if not check_gc_content(target):\n",
    "        print(\"Failed GC content check.\")\n",
    "        return None\n",
    "    \n",
    "    if not avoid_certain_patterns(target):\n",
    "        print(\"Failed pattern avoidance check.\")\n",
    "        return None\n",
    "    \n",
    "    if not check_thermodynamics(target):\n",
    "        print(\"Failed thermodynamics check.\")\n",
    "        return None\n",
    "    \n",
    "    if not avoid_off_target(target):\n",
    "        print(\"Potential off-target effects detected.\")\n",
    "        return None\n",
    "    \n",
    "    return target\n",
    "\n",
    "# Example usage\n",
    "sequence = \"GTGAAAGGTATTTCACGACATGACGAGGACCAAGAACAGTGAAACTATCATTTGACACTATGTGGAGGAAGCCCATCTAAAAGCGATCTGTGATCGTTCCTTTTCAAGGATTGTATAGTGAAGGCCAGGTTACTTAGGCTTGGAATTATGTAACAACAACAAATGGCGCAGAAATTGTTCATGTACACCTCAGGCTTCTAGCACGGCATTACAGCTCAAGATTATGGCCAAAAACGTATAATATTGTCACATTTGGTAATAAAGGAGTTGTAACTAGAGGAATAATGCTAAGTGCTGGTTTACTAGCCAAAACCACAGATGAAGAATGGGGAAAAAAACTTACACCTCAACAATACCACGTTTGTAGGCAAAAGGGAACCGAGCCGCCTGGTCTGGTG\"\n",
    "result = design_siRNA(sequence)\n",
    "if result:\n",
    "    print(f\"Designed siRNA: {result}\")\n",
    "else:\n",
    "    print(\"Failed to design siRNA based on criteria.\")"
   ],
   "metadata": {
    "collapsed": false,
    "ExecuteTime": {
     "end_time": "2023-10-31T01:04:40.944461Z",
     "start_time": "2023-10-31T01:04:40.940322Z"
    }
   },
   "id": "f2730d8a715b8d3e"
  }
 ],
 "metadata": {
  "kernelspec": {
   "display_name": "Python 3",
   "language": "python",
   "name": "python3"
  },
  "language_info": {
   "codemirror_mode": {
    "name": "ipython",
    "version": 2
   },
   "file_extension": ".py",
   "mimetype": "text/x-python",
   "name": "python",
   "nbconvert_exporter": "python",
   "pygments_lexer": "ipython2",
   "version": "2.7.6"
  }
 },
 "nbformat": 4,
 "nbformat_minor": 5
}
